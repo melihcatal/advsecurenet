{
 "cells": [
  {
   "cell_type": "markdown",
   "metadata": {},
   "source": [
    "# Non-Distributed Adversarial Training\n",
    "\n",
    "`advsecurenet` library provides a simple and easy-to-use API for adversarial training. In this notebook, we will demonstrate how to use the library to adversarially train a simple neural network on the CIFAR10 dataset. We will use the non-distributed version of the library in this notebook. It is possible to also use ensemble adversarial training with using multiple models and multiple adversarial attacks."
   ]
  },
  {
   "cell_type": "markdown",
   "metadata": {},
   "source": [
    "## Using a Configuration File"
   ]
  },
  {
   "cell_type": "markdown",
   "metadata": {},
   "source": [
    "### Step 1: Create a Configuration File\n",
    "\n",
    "As a first step, you need to have a default configuration file. You can create a configuration file by running the following command:\n",
    "    \n",
    "```sh\n",
    "advsecurenet utils configs get -c adversarial_training_config.yml -s -o ./default_advsersarial_training_config.yml\n",
    "```\n",
    "\n",
    "Here, we are also providing the `-o` flag to specify the output directory where the configuration file will be saved. You can also specify the output directory by passing the `-o` flag followed by the path to the directory where you want to save the configuration file. If you don't provide the `-o` flag, the configuration file will be saved in the current working directory with the name `adversarial_training_config.yml`. If the file already exists, it will be overwritten. If the output path is a directory, the configuration file will be saved in that directory with the name `adversarial_training_config.yml`.\n",
    "\n"
   ]
  },
  {
   "cell_type": "code",
   "execution_count": 2,
   "metadata": {},
   "outputs": [
    {
     "name": "stdout",
     "output_type": "stream",
     "text": [
      "Saving default config to ./default_advsersarial_training_config.yml\n",
      "Generated default configuration file adversarial_training_config.yml!\n"
     ]
    }
   ],
   "source": [
    "!advsecurenet utils configs get -c adversarial_training_config.yml -s -o ./default_advsersarial_training_config.yml"
   ]
  },
  {
   "cell_type": "code",
   "execution_count": 3,
   "metadata": {},
   "outputs": [
    {
     "name": "stdout",
     "output_type": "stream",
     "text": [
      "\u001b[34m\u001b[1m**************************************************\u001b[0m\n",
      "\u001b[31m\u001b[1mDefault configuration file for the adversarial_training_config.yml:\n",
      "\u001b[0m\n",
      "\u001b[32m{\n",
      "    \"training\": {\n",
      "        \"model\": {\n",
      "            \"model_name\": \"resnet18\",\n",
      "            \"num_input_channels\": 3,\n",
      "            \"num_classes\": 10,\n",
      "            \"pretrained\": true,\n",
      "            \"weights\": \"IMAGENET1K_V1\",\n",
      "            \"is_external\": false,\n",
      "            \"random_seed\": null,\n",
      "            \"path_configs\": {\n",
      "                \"model_arch_path\": null,\n",
      "                \"model_weights_path\": null\n",
      "            },\n",
      "            \"norm_config\": {\n",
      "                \"add_norm_layer\": false,\n",
      "                \"norm_mean\": [\n",
      "                    0.5,\n",
      "                    0.5,\n",
      "                    0.5\n",
      "                ],\n",
      "                \"norm_std\": [\n",
      "                    0.5,\n",
      "                    0.5,\n",
      "                    0.5\n",
      "                ]\n",
      "            }\n",
      "        },\n",
      "        \"dataset\": {\n",
      "            \"dataset_name\": \"cifar10\",\n",
      "            \"num_classes\": 10,\n",
      "            \"train_dataset_path\": null,\n",
      "            \"test_dataset_path\": null,\n",
      "            \"preprocessing\": {\n",
      "                \"steps\": [\n",
      "                    {\n",
      "                        \"name\": \"ToImage\",\n",
      "                        \"params\": null\n",
      "                    },\n",
      "                    {\n",
      "                        \"name\": \"ToDtype\",\n",
      "                        \"params\": {\n",
      "                            \"dtype\": \"torch.float32\",\n",
      "                            \"scale\": true\n",
      "                        }\n",
      "                    }\n",
      "                ]\n",
      "            },\n",
      "            \"download\": true\n",
      "        },\n",
      "        \"dataloader\": {\n",
      "            \"train\": {\n",
      "                \"num_workers\": 4,\n",
      "                \"shuffle\": true,\n",
      "                \"drop_last\": false,\n",
      "                \"pin_memory\": true,\n",
      "                \"batch_size\": 32\n",
      "            },\n",
      "            \"test\": {\n",
      "                \"num_workers\": 4,\n",
      "                \"shuffle\": true,\n",
      "                \"drop_last\": false,\n",
      "                \"pin_memory\": true,\n",
      "                \"batch_size\": 32\n",
      "            }\n",
      "        },\n",
      "        \"device\": {\n",
      "            \"use_ddp\": false,\n",
      "            \"processor\": \"cpu\",\n",
      "            \"gpu_ids\": null\n",
      "        },\n",
      "        \"training\": {\n",
      "            \"epochs\": 10,\n",
      "            \"learning_rate\": 0.001,\n",
      "            \"optimizer\": \"adam\",\n",
      "            \"optimizer_kwargs\": {\n",
      "                \"weight_decay\": 0.0001\n",
      "            },\n",
      "            \"scheduler\": \"LINEAR_LR\",\n",
      "            \"scheduler_kwargs\": null,\n",
      "            \"criterion\": \"cross_entropy\",\n",
      "            \"save_final_model\": true,\n",
      "            \"save_model_path\": null,\n",
      "            \"save_model_name\": null,\n",
      "            \"save_checkpoint\": false,\n",
      "            \"save_checkpoint_path\": null,\n",
      "            \"save_checkpoint_name\": null,\n",
      "            \"checkpoint_interval\": 1,\n",
      "            \"load_checkpoint\": false,\n",
      "            \"load_checkpoint_path\": null,\n",
      "            \"verbose\": true\n",
      "        }\n",
      "    },\n",
      "    \"adversarial_training\": {\n",
      "        \"models\": null,\n",
      "        \"attacks\": [\n",
      "            {\n",
      "                \"Attack1\": {\n",
      "                    \"config\": \"path/to/attack1_config.yml\"\n",
      "                }\n",
      "            }\n",
      "        ]\n",
      "    }\n",
      "}\u001b[0m\n",
      "\u001b[34m\u001b[1m**************************************************\u001b[0m\n"
     ]
    }
   ],
   "source": [
    "# Let's check the content of the default config file\n",
    "!advsecurenet utils configs get -c adversarial_training_config.yml -p"
   ]
  },
  {
   "cell_type": "markdown",
   "metadata": {},
   "source": [
    "### Step 2: Modify the Configuration File\n",
    "\n",
    "The default configuration file is capable of running the adversarial training on the `CIFAR10` dataset using the `ResNet18` model.\n",
    "\n",
    "You can modify the configuration file to run the training on a different dataset, model, or change other hyperparameters. You can also add new hyperparameters to the configuration file.\n",
    "\n",
    "For the sake of this example, we will modify the configuration file to run the training on the `Cifar10` dataset using the `Vgg16` model and the `PGD` attack. To do this, we also need to provide the `PGD` attack configuration yml file in the adversarial training configuration file.\n",
    "\n",
    "\n",
    "\n",
    "\n"
   ]
  },
  {
   "cell_type": "markdown",
   "metadata": {},
   "source": [
    "### Step 2.1 Get the PGD Attack Configuration File\n",
    "\n",
    "For the adversarial training, we need to provide the configuration file for the adversarial attack. However, these configuration files are not the same as the configuration files used for the adversarial attack command. The difference is that the configuration files used for the adversarial attack command are used to run the adversarial attack on a model, so they contain the information about the model, dataset, and other hyperparameters. On the other hand, the adversarial attack configuration files used in the adversarial training configuration file contain only the hyperparameters of the adversarial attack since the model and dataset information is already provided in the adversarial training configuration file.\n",
    "\n",
    "Such configuration files have the keyword `base` in the file name. You can get the base configuration file for the `PGD` attack by running the following command:\n",
    "\n",
    "```sh\n",
    "advsecurenet utils configs get -c pgd_attack_base_config.yml -s          \n",
    "```\n"
   ]
  },
  {
   "cell_type": "code",
   "execution_count": 4,
   "metadata": {},
   "outputs": [
    {
     "name": "stdout",
     "output_type": "stream",
     "text": [
      "Saving default config to /Users/melih/Desktop/paper/code/advsecurenet/examples/cli/defenses/adversarial_training/non_distributed/pgd_attack_base_config.yml\n",
      "Generated default configuration file pgd_attack_base_config.yml!\n"
     ]
    }
   ],
   "source": [
    "!advsecurenet utils configs get -c pgd_attack_base_config.yml -s"
   ]
  },
  {
   "cell_type": "markdown",
   "metadata": {},
   "source": [
    "You can find the updated configuration file [here](train_config.yml).\n"
   ]
  },
  {
   "cell_type": "markdown",
   "metadata": {},
   "source": [
    "## Step 3: Train the Model\n",
    "\n",
    "Now, you can adversarially train the model by running the following command:\n",
    "\n",
    "```sh\n",
    "advsecurenet defense adversarial-training -c ./adversarial_training_config.yml\n",
    "```"
   ]
  },
  {
   "cell_type": "code",
   "execution_count": null,
   "metadata": {},
   "outputs": [],
   "source": [
    "!advsecurenet defense adversarial-training -c ./adversarial_training_config.yml"
   ]
  },
  {
   "cell_type": "markdown",
   "metadata": {},
   "source": [
    "### Ensemble Adversarial Training with Multiple Models and Attacks\n",
    "\n",
    "You can also use ensemble adversarial training with multiple models and multiple adversarial attacks. In such cases, adversarial trainer will randomly select a model and an attack for each batch of data. \n",
    "\n",
    "First we need to get the configuration files for the attacks and models we want to use. We already have the configuration file for the `PGD` attack. Now, we will get the configuration file for the `FGSM` attack and the `ResNet18` model. With such setup, the adversarial trainer will randomly select either the `PGD` or the `FGSM` attack and either the `Vgg16` or the `ResNet18` model for each batch of data to adversarially train the source model which is `Vgg16` in this case.\n",
    "\n",
    "\n",
    "\n",
    "\n"
   ]
  },
  {
   "cell_type": "code",
   "execution_count": 2,
   "metadata": {},
   "outputs": [
    {
     "name": "stdout",
     "output_type": "stream",
     "text": [
      "Saving default config to ./ensemble/fgsm_attack_config.yml\n",
      "Generated default configuration file fgsm_attack_base_config.yml!\n"
     ]
    }
   ],
   "source": [
    "# Get the FGSM attack config file\n",
    "!advsecurenet utils configs get -c fgsm_attack_base_config.yml -s -o ./ensemble/fgsm_attack_config.yml"
   ]
  },
  {
   "cell_type": "code",
   "execution_count": 3,
   "metadata": {},
   "outputs": [
    {
     "name": "stdout",
     "output_type": "stream",
     "text": [
      "Saving default config to ./ensemble/model_config.yml\n",
      "Generated default configuration file model_config.yml!\n"
     ]
    }
   ],
   "source": [
    "# Get the model config file\n",
    "!advsecurenet utils configs get -c model_config.yml -s -o ./ensemble/model_config.yml"
   ]
  },
  {
   "cell_type": "markdown",
   "metadata": {},
   "source": [
    "You can find the updated configuration file for ensemble adversarial training [here](./ensemble/adversarial_training_config_ensemble.yml)."
   ]
  },
  {
   "cell_type": "markdown",
   "metadata": {},
   "source": [
    "The command to run ensemble adversarial training is the same as the command to run adversarial training. You just need to provide the configuration file for ensemble adversarial training. \n",
    "\n",
    "```sh\n",
    "advsecurenet defense adversarial-training -c ./ensemble/adversarial_training_config_ensemble.yml\n",
    "```"
   ]
  },
  {
   "cell_type": "code",
   "execution_count": 8,
   "metadata": {},
   "outputs": [
    {
     "name": "stdout",
     "output_type": "stream",
     "text": [
      "Files already downloaded and verified\n",
      "Files already downloaded and verified\n",
      "\u001b[32mStarting Adversarial Training\u001b[0m\n",
      "  0%|                                                     | 0/1 [00:00<?, ?it/s]\n",
      "Adversarial Training:   0%|\u001b[34m                         \u001b[0m| 0/1563 [00:00<?, ?batch/s]\u001b[0m\u001b[A\n",
      "Adversarial Training:   0%|\u001b[34m              \u001b[0m| 1/1563 [00:30<13:08:57, 30.31s/batch]\u001b[0m\u001b[A\n",
      "Adversarial Training:   0%|\u001b[34m               \u001b[0m| 2/1563 [00:34<6:28:27, 14.93s/batch]\u001b[0m\u001b[A\n",
      "Adversarial Training:   0%|\u001b[34m               \u001b[0m| 3/1563 [00:41<4:58:46, 11.49s/batch]\u001b[0m\u001b[A\n",
      "Adversarial Training:   0%|\u001b[34m               \u001b[0m| 4/1563 [00:43<3:20:32,  7.72s/batch]\u001b[0m\u001b[A\n",
      "Adversarial Training:   0%|\u001b[34m               \u001b[0m| 5/1563 [00:45<2:26:03,  5.62s/batch]\u001b[0m\u001b[A\n",
      "Adversarial Training:   0%|\u001b[34m               \u001b[0m| 6/1563 [00:46<1:41:47,  3.92s/batch]\u001b[0m\u001b[A^C\n"
     ]
    }
   ],
   "source": [
    "!advsecurenet defense adversarial-training -c ./ensemble/adversarial_training_config_ensemble.yml"
   ]
  }
 ],
 "metadata": {
  "kernelspec": {
   "display_name": "adv2",
   "language": "python",
   "name": "python3"
  },
  "language_info": {
   "codemirror_mode": {
    "name": "ipython",
    "version": 3
   },
   "file_extension": ".py",
   "mimetype": "text/x-python",
   "name": "python",
   "nbconvert_exporter": "python",
   "pygments_lexer": "ipython3",
   "version": "3.11.5"
  }
 },
 "nbformat": 4,
 "nbformat_minor": 2
}
